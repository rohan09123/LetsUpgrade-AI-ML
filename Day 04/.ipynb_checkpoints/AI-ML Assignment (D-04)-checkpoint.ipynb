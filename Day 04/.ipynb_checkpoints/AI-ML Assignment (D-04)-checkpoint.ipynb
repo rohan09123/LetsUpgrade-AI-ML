{
 "cells": [
  {
   "cell_type": "markdown",
   "metadata": {},
   "source": [
    "# Assignment (Day 4)"
   ]
  },
  {
   "cell_type": "markdown",
   "metadata": {},
   "source": [
    "<h3><b>Q1. Research on whether <i>addition, subtraction, multiplication, division, floor division, and modulo</i>\n",
    "    operations be performed on <i>complex numbers</i>.Based on your study, implement a python program to demonstrate these operation</b></h3>"
   ]
  },
  {
   "cell_type": "markdown",
   "metadata": {},
   "source": [
    "<h3><b>Answer :</b></h3><br><br>In python, we can only perform <i><b>addition, subtraction, multiplication and division</b></i> to complex number.<br>Complex numbers are numbers consisting <i><b>a real and a imaginary part</b></i>.<br>Complex numbers do not accept <b>\"%\" and \"//\"</b> as an operand.<br>Using <i><b>Modulo and floor division</b></i> on complex numbers will raise <b>TypeError</b>"
   ]
  },
  {
   "cell_type": "code",
   "execution_count": 1,
   "metadata": {},
   "outputs": [
    {
     "name": "stdout",
     "output_type": "stream",
     "text": [
      "Enter first number : 15j\n",
      "Enter second number : 3j\n",
      "\n",
      "Addition of both complex numbers is : 18j\n",
      "subtraction of both complex numbers is : 12j\n",
      "Multiplication of both complex numbers is : (-45+0j)\n",
      "Division of both complex numbers is : (5+0j)\n"
     ]
    }
   ],
   "source": [
    "com1 = complex(input(\"Enter first number : \"))\n",
    "com2 = complex(input(\"Enter second number : \"))\n",
    "\n",
    "print(f\"\\nAddition of both complex numbers is : {com1 + com2}\")\n",
    "print(f\"subtraction of both complex numbers is : {com1 - com2}\")\n",
    "print(f\"Multiplication of both complex numbers is : {com1 * com2}\")\n",
    "print(f\"Division of both complex numbers is : {com1 / com2}\")"
   ]
  },
  {
   "cell_type": "markdown",
   "metadata": {},
   "source": [
    "<h3><b>Q2. Research on <i>range() function and its parameters. Create a markdown cell</i> and write what you understand based on your study, implement a python program to demonstrate this operation</b></h3>"
   ]
  },
  {
   "cell_type": "markdown",
   "metadata": {},
   "source": [
    "- range() is a inbuilt datatype in python.\n",
    "- It takes 3 parameters as input.(eg. : start,stop,step )\n",
    "- Start : It is optional, it is an integer number specifying at which position to start (Default is 0)\n",
    "- Stop : It is mandatory, it is an integer number specifying at which position to stop (numbers in range = start , ... , 1-stop)\n",
    "- Step : It is optional, it is an integer number specifying the incrementation (Default is 1)\n",
    "- range() function generates an sequence from start till stop with provided step."
   ]
  },
  {
   "cell_type": "code",
   "execution_count": 2,
   "metadata": {},
   "outputs": [
    {
     "name": "stdout",
     "output_type": "stream",
     "text": [
      "Give a starting point to range : 1\n",
      "Give a ending point to range : 5\n",
      "Give incrementation : 2\n",
      "1\n",
      "3\n"
     ]
    }
   ],
   "source": [
    "start = int(input(\"Give a starting point to range : \"))\n",
    "stop = int(input(\"Give a ending point to range : \"))\n",
    "step = int(input(\"Give incrementation : \"))\n",
    "\n",
    "num = range(start,stop,step)\n",
    "\n",
    "for i in num:\n",
    "    print(i)"
   ]
  },
  {
   "cell_type": "markdown",
   "metadata": {},
   "source": [
    "<h3><b>Q3. Consider <i>two numbers.</i> Perform <i>Subtraction</i> and if the result is <i>greater than 25</i>, print their multiplication result else print their division result.</b></h3>"
   ]
  },
  {
   "cell_type": "code",
   "execution_count": 3,
   "metadata": {},
   "outputs": [
    {
     "name": "stdout",
     "output_type": "stream",
     "text": [
      "Enter first number : 50\n",
      "Enter second number : 20\n",
      "1000\n"
     ]
    }
   ],
   "source": [
    "num1 = int(input(\"Enter first number : \"))\n",
    "num2 = int(input(\"Enter second number : \"))\n",
    "\n",
    "if (num1-num2) > 25:\n",
    "    print(num1 * num2)\n",
    "else:\n",
    "    print(num1 / num2)"
   ]
  },
  {
   "cell_type": "markdown",
   "metadata": {},
   "source": [
    "<h3><b>Q4. Consider <i>a list of 10 elements of integer values.</i> if the number in the list is <i>divisible by 2</i> print the result as <i>square of that number minus 2</i></b></h3>"
   ]
  },
  {
   "cell_type": "code",
   "execution_count": 4,
   "metadata": {},
   "outputs": [
    {
     "name": "stdout",
     "output_type": "stream",
     "text": [
      "2\n",
      "14\n",
      "34\n",
      "62\n",
      "98\n"
     ]
    }
   ],
   "source": [
    "li = [1,2,3,4,5,6,7,8,9,10]\n",
    "\n",
    "for i in li:\n",
    "    if i % 2 == 0:\n",
    "        print((i**2)-2)\n",
    "    else:\n",
    "        continue"
   ]
  },
  {
   "cell_type": "markdown",
   "metadata": {},
   "source": [
    "<h3><b>Q5. Consider <i>a list of 10 elements of integer values.</i> Print all the elements in the list which are <i>greater than 7</i> when that number is <i>divided by 2</i></b></h3>"
   ]
  },
  {
   "cell_type": "code",
   "execution_count": 5,
   "metadata": {},
   "outputs": [
    {
     "name": "stdout",
     "output_type": "stream",
     "text": [
      "15\n",
      "16\n",
      "17\n",
      "18\n",
      "19\n",
      "20\n"
     ]
    }
   ],
   "source": [
    "li = [11,12,13,14,15,16,17,18,19,20]\n",
    "\n",
    "for i in li:\n",
    "    if (i/2)>7:\n",
    "        print(i)\n",
    "    else:\n",
    "        continue"
   ]
  },
  {
   "cell_type": "code",
   "execution_count": null,
   "metadata": {},
   "outputs": [],
   "source": []
  }
 ],
 "metadata": {
  "kernelspec": {
   "display_name": "Python 3",
   "language": "python",
   "name": "python3"
  },
  "language_info": {
   "codemirror_mode": {
    "name": "ipython",
    "version": 3
   },
   "file_extension": ".py",
   "mimetype": "text/x-python",
   "name": "python",
   "nbconvert_exporter": "python",
   "pygments_lexer": "ipython3",
   "version": "3.7.4"
  }
 },
 "nbformat": 4,
 "nbformat_minor": 2
}
