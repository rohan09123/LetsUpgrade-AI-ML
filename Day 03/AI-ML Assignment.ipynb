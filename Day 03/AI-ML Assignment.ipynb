{
 "cells": [
  {
   "cell_type": "markdown",
   "metadata": {},
   "source": [
    "<h1> Assignment (Day 3) </h1>"
   ]
  },
  {
   "cell_type": "markdown",
   "metadata": {},
   "source": [
    "<h3><b>Q1. WAP to subtract two <i>complex</i> number in python</b></h3>"
   ]
  },
  {
   "cell_type": "code",
   "execution_count": 1,
   "metadata": {},
   "outputs": [
    {
     "name": "stdout",
     "output_type": "stream",
     "text": [
      "Enter first no. : 20j\n",
      "Enter second no. : 3j\n",
      "Subtraction of both number is : 17j\n"
     ]
    }
   ],
   "source": [
    "com1 = complex(input(\"Enter first no. : \"))\n",
    "com2 = complex(input(\"Enter second no. : \"))\n",
    "\n",
    "sub = com1 - com2\n",
    "\n",
    "print(f\"Subtraction of both number is : {sub}\")"
   ]
  },
  {
   "cell_type": "markdown",
   "metadata": {},
   "source": [
    "<h3><b>Q2. WAP to find <i>fourth root</i> of a number in python</b></h3>"
   ]
  },
  {
   "cell_type": "code",
   "execution_count": 2,
   "metadata": {},
   "outputs": [
    {
     "name": "stdout",
     "output_type": "stream",
     "text": [
      "Enter the number16\n",
      "Fourth root of the number from method 1 is : 2.0\n",
      "Fourth root of the number from method 2 is : 2.0\n"
     ]
    }
   ],
   "source": [
    "import math as m\n",
    "\n",
    "num = int(input(\"Enter the number\"))\n",
    "\n",
    "# method 1:\n",
    "\n",
    "print(\"Fourth root of the number from method 1 is :\", pow(num,0.25))\n",
    "\n",
    "# method 2:\n",
    "\n",
    "print(\"Fourth root of the number from method 2 is :\", m.sqrt(m.sqrt(num)))"
   ]
  },
  {
   "cell_type": "markdown",
   "metadata": {},
   "source": [
    "<h3><b>Q3. WAP to <i>swap</i> two numbers <i>using temporary variable</i> in python</b></h3>"
   ]
  },
  {
   "cell_type": "code",
   "execution_count": 3,
   "metadata": {},
   "outputs": [
    {
     "name": "stdout",
     "output_type": "stream",
     "text": [
      "Enter first number : 10\n",
      "Enter second number : 5\n",
      "After swapping, first number is : 5 and second number is : 10\n"
     ]
    }
   ],
   "source": [
    "n1 = int(input(\"Enter first number : \"))\n",
    "n2 = int(input(\"Enter second number : \"))\n",
    "temp : int\n",
    "\n",
    "temp = n1\n",
    "n1 = n2\n",
    "n2 = temp\n",
    "\n",
    "print(f\"After swapping, first number is : {n1} and second number is : {n2}\")"
   ]
  },
  {
   "cell_type": "markdown",
   "metadata": {},
   "source": [
    "<h3><b>Q4. WAP to <i>swap</i> two numbers <i>without using temporary variable</i> in python</b></h3>"
   ]
  },
  {
   "cell_type": "code",
   "execution_count": 4,
   "metadata": {},
   "outputs": [
    {
     "name": "stdout",
     "output_type": "stream",
     "text": [
      "Enter first number : 18\n",
      "Enter second number : 9\n",
      "After swapping, first number is : 9 and second number is : 18\n"
     ]
    }
   ],
   "source": [
    "n1 = int(input(\"Enter first number : \"))\n",
    "n2 = int(input(\"Enter second number : \"))\n",
    "\n",
    "n1 = n1 + n2\n",
    "n2 = n1 - n2\n",
    "n1 = n1 - n2\n",
    "\n",
    "print(f\"After swapping, first number is : {n1} and second number is : {n2}\")"
   ]
  },
  {
   "cell_type": "markdown",
   "metadata": {},
   "source": [
    "<h3><b>Q5. WAP to convert <i>fahrenheit to kelvin and celsius</i> both in python</b></h3>"
   ]
  },
  {
   "cell_type": "code",
   "execution_count": 5,
   "metadata": {},
   "outputs": [
    {
     "name": "stdout",
     "output_type": "stream",
     "text": [
      "Enter temprature in Fahrenheit : 32\n",
      "Temprature in celcius is 0.0 °C\n",
      "Temprature in kelvin is 273.15K\n"
     ]
    }
   ],
   "source": [
    "f = int(input(\"Enter temprature in Fahrenheit : \"))\n",
    "\n",
    "deg = u\"\\N{DEGREE SIGN}\"\n",
    "\n",
    "c = (f - 32) * 5/9\n",
    "k = (f - 32) * 5/9 + 273.15\n",
    "\n",
    "print(f\"Temprature in celcius is {c} {deg}C\\nTemprature in kelvin is {k}K\")"
   ]
  },
  {
   "cell_type": "markdown",
   "metadata": {},
   "source": [
    "<h3><b>Q6. WAP to demonstrate all the available <i>data types</i> in Python.</b></h3>"
   ]
  },
  {
   "cell_type": "code",
   "execution_count": 6,
   "metadata": {},
   "outputs": [
    {
     "name": "stdout",
     "output_type": "stream",
     "text": [
      "<class 'str'>\n",
      "<class 'int'>\n",
      "<class 'float'>\n",
      "<class 'complex'>\n",
      "<class 'list'>\n",
      "<class 'set'>\n",
      "<class 'tuple'>\n",
      "<class 'range'>\n",
      "<class 'dict'>\n",
      "<class 'frozenset'>\n",
      "<class 'bool'>\n",
      "<class 'bytes'>\n",
      "<class 'bytearray'>\n",
      "<class 'memoryview'>\n"
     ]
    }
   ],
   "source": [
    "string = \"hello world\"\n",
    "integer = 32\n",
    "flt = 32.4\n",
    "cplx = 30j\n",
    "li = [1,2,3]\n",
    "st = {1,2,3}\n",
    "tpl = (1,2,3)\n",
    "rng = range(6)\n",
    "di = {\"Name\" : \"Rohan\", \"Surname\" : \"Vyas\"}\n",
    "fs = frozenset({1,2,3})\n",
    "boolean = True\n",
    "bt = b\"Hello\"\n",
    "btar = bytearray(5)\n",
    "mv = memoryview(bytes(100))\n",
    "\n",
    "print(type(string))\n",
    "print(type(integer))\n",
    "print(type(flt))\n",
    "print(type(cplx))\n",
    "print(type(li))\n",
    "print(type(st))\n",
    "print(type(tpl))\n",
    "print(type(rng))\n",
    "print(type(di))\n",
    "print(type(fs))\n",
    "print(type(boolean))\n",
    "print(type(bt))\n",
    "print(type(btar))\n",
    "print(type(mv))"
   ]
  },
  {
   "cell_type": "markdown",
   "metadata": {},
   "source": [
    "<h3><b>Q7. Create a Markdown cell and <i>list the steps</i> discussed in the session by <i>Dr. Darshan\n",
    "    Ingle sir</i> to <i>create Github profile and upload Githubs Assignment link</i>.</b></h3>"
   ]
  },
  {
   "cell_type": "markdown",
   "metadata": {},
   "source": [
    "<ul>\n",
    "    <li>Go to : https://www.github.com</li>\n",
    "    <li>Click on sign up and create a new account</li>\n",
    "    <li>After creating account, Login with that account on github</li>\n",
    "    <li>Click on create new repository</li>\n",
    "    <li>In repository name, write 'LetsUpgrade-AI-ML'</li>\n",
    "    <li>( NOTE : kindly keep the repository public.)</li>\n",
    "    <li>Create new folder 'Day 03' in local computer and move jupyter notebbok file to that folder</li>\n",
    "    <li>After that, upload folder 'Day 03' in 'LetsUpgrade-AI-ML' repository</li>\n",
    "    <li>After uploading, copy the URL of file from address bar of browser</li>\n",
    "    <li>Go to : https://bit.ly/aimlassignment</li>\n",
    "    <li>Fill the form and in URL section, Paste the copied URL</li>\n",
    "</ul>"
   ]
  },
  {
   "cell_type": "code",
   "execution_count": null,
   "metadata": {},
   "outputs": [],
   "source": []
  }
 ],
 "metadata": {
  "kernelspec": {
   "display_name": "Python 3.8.1 64-bit",
   "language": "python",
   "name": "python38164bit7a02246802814b8fb7506e73bc968b0d"
  },
  "language_info": {
   "codemirror_mode": {
    "name": "ipython",
    "version": 3
   },
   "file_extension": ".py",
   "mimetype": "text/x-python",
   "name": "python",
   "nbconvert_exporter": "python",
   "pygments_lexer": "ipython3",
   "version": "3.8.1"
  }
 },
 "nbformat": 4,
 "nbformat_minor": 2
}
