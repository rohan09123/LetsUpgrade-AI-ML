{
 "cells": [
  {
   "cell_type": "markdown",
   "metadata": {},
   "source": [
    "# Assignment (Day 05)"
   ]
  },
  {
   "cell_type": "markdown",
   "metadata": {},
   "source": [
    "<h3><b>Q1. WAP to find the <i>first 20 non-even prime natural numbers</i>.</b></h3>"
   ]
  },
  {
   "cell_type": "code",
   "execution_count": 1,
   "metadata": {},
   "outputs": [
    {
     "name": "stdout",
     "output_type": "stream",
     "text": [
      "Non even 20 prime numbers : [1, 3, 5, 7, 11, 13, 17, 19, 23, 29, 31, 37, 41, 43, 47, 53, 59, 61, 67, 71]\n"
     ]
    }
   ],
   "source": [
    "count = 0\n",
    "i = 1\n",
    "li = []\n",
    "while(1):\n",
    "    for j in range(2,i):\n",
    "        if i % j == 0:\n",
    "            break\n",
    "    else:\n",
    "        if i % 2 != 0:\n",
    "            li.append(i)\n",
    "            count += 1\n",
    "    i += 1\n",
    "    if(count == 20):\n",
    "        break\n",
    "print(f\"Non even 20 prime numbers : {li}\")"
   ]
  },
  {
   "cell_type": "markdown",
   "metadata": {},
   "source": [
    "<h3><b>Q2. WAP to implement <i>15 functions of string</i>.</b></h3>"
   ]
  },
  {
   "cell_type": "code",
   "execution_count": 2,
   "metadata": {},
   "outputs": [
    {
     "name": "stdout",
     "output_type": "stream",
     "text": [
      "Converts the first character to upper case : Rohan\n",
      "Converts string into lower case : rohan\n",
      "Returns a centered string :        rOhan        \n",
      "Returns the number of times a specified value occurs in a string : 1\n",
      "Returns an encoded version of the string : b'rOhan'\n",
      "Returns true if the string ends with the specified value : True\n",
      "Sets the tab size of the string : rOhan\n",
      "Searches the string for a specified value and returns the position of where it was found : 3\n",
      "Formats specified values in a string : rOhan\n",
      "Searches the string for a specified value and returns the position of where it was found : 0\n",
      "Returns True if all characters in the string are alphanumeric : True\n",
      "Returns True if all characters in the string are in the alphabet : True \n",
      "Returns True if all characters in the string are decimals : False\n",
      "Returns True if all characters in the string are digits : False\n",
      "Returns True if the string is an identifier : True\n"
     ]
    }
   ],
   "source": [
    "str = 'rOhan'\n",
    "print(f\"Converts the first character to upper case : {str.capitalize()}\")\n",
    "print(f\"Converts string into lower case : {str.casefold()}\")\n",
    "print(f\"Returns a centered string : {str.center(20)}\")\n",
    "print(f\"Returns the number of times a specified value occurs in a string : {str.count('a')}\")\n",
    "print(f\"Returns an encoded version of the string : {str.encode()}\")\n",
    "print(f\"Returns true if the string ends with the specified value : {str.endswith('n')}\")\n",
    "print(f\"Sets the tab size of the string : {str.expandtabs()}\")\n",
    "print(f\"Searches the string for a specified value and returns the position of where it was found : {str.find('a')}\")\n",
    "print(f\"Formats specified values in a string : {str.format()}\")\n",
    "print(f\"Searches the string for a specified value and returns the position of where it was found : {str.index('r')}\")\n",
    "print(f\"Returns True if all characters in the string are alphanumeric : {str.isalnum()}\")\n",
    "print(f\"Returns True if all characters in the string are in the alphabet : {str.isalpha()} \")\n",
    "print(f\"Returns True if all characters in the string are decimals : {str.isdecimal()}\")\n",
    "print(f\"Returns True if all characters in the string are digits : {str.isdigit()}\")\n",
    "print(f\"Returns True if the string is an identifier : {str.isidentifier()}\")"
   ]
  },
  {
   "cell_type": "markdown",
   "metadata": {},
   "source": [
    "<h3><b>Q3. WAP to check if the given string is a <i>Palindrome or Anagram or None of them</i>.\n",
    "Display the message accordingly to the user.</b></h3>"
   ]
  },
  {
   "cell_type": "code",
   "execution_count": 3,
   "metadata": {},
   "outputs": [
    {
     "name": "stdout",
     "output_type": "stream",
     "text": [
      "Enter the string : dad\n",
      "\n",
      "Given string is a palindrome\n"
     ]
    }
   ],
   "source": [
    "string = input(\"Enter the string : \")\n",
    "\n",
    "if string == string[::-1]:\n",
    "    print(\"\\nGiven string is a palindrome\")\n"
   ]
  },
  {
   "cell_type": "markdown",
   "metadata": {},
   "source": [
    "<h3><b>Q4. Write a Python's user defined function that removes all the additional characters from the string\n",
    "and converts it finally to lower case using built-in lower(). <i>eg: If the string is \"Dr. Darshan Ingle\n",
    "    @AI-ML Trainer\", then the output be \"drdarshaningleaimltrainer\"</i>.</b></h3>"
   ]
  },
  {
   "cell_type": "code",
   "execution_count": 4,
   "metadata": {},
   "outputs": [
    {
     "name": "stdout",
     "output_type": "stream",
     "text": [
      "Enter the string: Dr. Darshan Ingle @AI-ML Trainer\n",
      "drdarshaningleaimltrainer\n"
     ]
    }
   ],
   "source": [
    "def string_convert(st):\n",
    "    st = list(st)\n",
    "    for i in range(len(st)):\n",
    "        if not(ord(st[i])>=65 and ord(st[i])<=90 or ord(st[i])>=97 and ord(st[i])<=122):\n",
    "                st[i] = \"\"\n",
    "    st = ''.join(st)\n",
    "    return st.lower()\n",
    "\n",
    "st = input(\"Enter the string: \")\n",
    "print(string_convert(st))"
   ]
  },
  {
   "cell_type": "code",
   "execution_count": null,
   "metadata": {},
   "outputs": [],
   "source": []
  }
 ],
 "metadata": {
  "kernelspec": {
   "display_name": "Python 3.8.1 64-bit",
   "language": "python",
   "name": "python38164bit7a02246802814b8fb7506e73bc968b0d"
  },
  "language_info": {
   "codemirror_mode": {
    "name": "ipython",
    "version": 3
   },
   "file_extension": ".py",
   "mimetype": "text/x-python",
   "name": "python",
   "nbconvert_exporter": "python",
   "pygments_lexer": "ipython3",
   "version": "3.8.1"
  }
 },
 "nbformat": 4,
 "nbformat_minor": 2
}
