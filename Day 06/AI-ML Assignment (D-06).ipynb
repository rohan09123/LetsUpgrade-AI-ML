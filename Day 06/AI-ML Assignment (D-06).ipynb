{
 "cells": [
  {
   "cell_type": "markdown",
   "metadata": {},
   "source": [
    "# Assignment (Day 06)"
   ]
  },
  {
   "cell_type": "markdown",
   "metadata": {},
   "source": [
    "<h3><b>Q1. Assuming that we have some email addresses in the <i>\"username@companyname.com\"</i> format, please write program\n",
    "    to <i>print the company name of a given email address</i>. Both user names and company names are composed of letters\n",
    "only.</b></h3>"
   ]
  },
  {
   "cell_type": "code",
   "execution_count": 1,
   "metadata": {},
   "outputs": [
    {
     "name": "stdout",
     "output_type": "stream",
     "text": [
      "Enter your Email Address : jhon@google.com\n",
      "Company name : google\n"
     ]
    }
   ],
   "source": [
    "email = input(\"Enter your Email Address : \")\n",
    "em = email.split('@')\n",
    "print(f\"Company name : {em[1].split('.')[0]}\")"
   ]
  },
  {
   "cell_type": "markdown",
   "metadata": {},
   "source": [
    "<h3><b>Q2. WAP that accepts a <i>comma-separated sequence</i> of words as input and prints the words in a comma\n",
    "    separated sequence after <i>sorting them alphabetically</i>.</b></h3>"
   ]
  },
  {
   "cell_type": "code",
   "execution_count": 2,
   "metadata": {},
   "outputs": [
    {
     "name": "stdout",
     "output_type": "stream",
     "text": [
      "Enter string : without,hello,bag,world\n",
      "Sorted string : bag, hello, without, world\n"
     ]
    }
   ],
   "source": [
    "inp = input(\"Enter string : \")\n",
    "li = inp.split(',')\n",
    "\n",
    "li = sorted(li)\n",
    "\n",
    "print(\"Sorted string : \",end=\"\")\n",
    "for i in range(len(li)):\n",
    "    if i == (len(li)-1):\n",
    "        print(li[i])\n",
    "    else:\n",
    "        print(f\"{li[i]}, \",end=\"\")"
   ]
  },
  {
   "cell_type": "markdown",
   "metadata": {},
   "source": [
    "<h3><b>Q3. Create your own Jupyter Notebook for Sets.</b></h3>\n",
    "\n",
    "- For Jupyter NoteBook of set, visit : "
   ]
  },
  {
   "cell_type": "markdown",
   "metadata": {},
   "source": [
    "<h3><b>Q4. Given a list of <i>n-1 numbers ranging from 1 to n</i>, your task is to find the missing number. <i>There are no duplicates</i>.</b></h3>"
   ]
  },
  {
   "cell_type": "code",
   "execution_count": 3,
   "metadata": {},
   "outputs": [
    {
     "name": "stdout",
     "output_type": "stream",
     "text": [
      "Enter numbers : 1 2 4 6 3 7 8\n",
      "5\n"
     ]
    }
   ],
   "source": [
    "num = input(\"Enter numbers : \").split(\" \")\n",
    "\n",
    "for i in range(len(num)):\n",
    "    num[i] = int(num[i])\n",
    "\n",
    "print(int((len(num)+1)*(len(num)+2)/2)-sum(num))"
   ]
  },
  {
   "cell_type": "markdown",
   "metadata": {},
   "source": [
    "<h3><b>Q5. With a given list L, write a program to <i>print this list L after removing all duplicate values with original order reserved</i>.</b></h3>"
   ]
  },
  {
   "cell_type": "code",
   "execution_count": 4,
   "metadata": {},
   "outputs": [
    {
     "name": "stdout",
     "output_type": "stream",
     "text": [
      "Enter the string : 12 24 35 24 88 120 155 88 120 155\n",
      "12 24 35 88 120 155 "
     ]
    }
   ],
   "source": [
    "li = input(\"Enter the string : \").split(\" \")\n",
    "\n",
    "li = list(dict.fromkeys(li))\n",
    "\n",
    "for i in range(len(li)):\n",
    "    li[i]=int(li[i])\n",
    "    \n",
    "li= sorted(li)\n",
    "\n",
    "for i in range(len(li)):\n",
    "    print(li[i],end=\" \")"
   ]
  },
  {
   "cell_type": "code",
   "execution_count": null,
   "metadata": {},
   "outputs": [],
   "source": []
  }
 ],
 "metadata": {
  "kernelspec": {
   "display_name": "Python 3.8.1 64-bit",
   "language": "python",
   "name": "python38164bit7a02246802814b8fb7506e73bc968b0d"
  },
  "language_info": {
   "codemirror_mode": {
    "name": "ipython",
    "version": 3
   },
   "file_extension": ".py",
   "mimetype": "text/x-python",
   "name": "python",
   "nbconvert_exporter": "python",
   "pygments_lexer": "ipython3",
   "version": "3.8.1"
  }
 },
 "nbformat": 4,
 "nbformat_minor": 2
}
