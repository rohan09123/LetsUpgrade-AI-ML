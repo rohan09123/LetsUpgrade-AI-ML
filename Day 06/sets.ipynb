{
 "cells": [
  {
   "cell_type": "markdown",
   "metadata": {},
   "source": [
    "<h1 style=\"font-size:3em\">Sets<h1>"
   ]
  },
  {
   "cell_type": "markdown",
   "metadata": {},
   "source": [
    "# Set\n",
    "\n",
    "- A set is a collection which is unordered and unindexed. \n",
    "- In Python sets are written with curly brackets. \n",
    "- Sets are immutable in nature i.e Once a set is created, you cannot change its items but can add new items."
   ]
  },
  {
   "cell_type": "code",
   "execution_count": 1,
   "metadata": {},
   "outputs": [
    {
     "name": "stdout",
     "output_type": "stream",
     "text": [
      "{1, 2, 3, 'hello'}\n",
      "<class 'set'>\n"
     ]
    }
   ],
   "source": [
    "st = {1,2,3,'hello'}\n",
    "print(st)\n",
    "print(type(st)) #returns type of 'st'"
   ]
  },
  {
   "cell_type": "markdown",
   "metadata": {},
   "source": [
    "# Traversing a set\n",
    "\n",
    "You cannot access items in a set by referring to an index, since sets are unordered the items has no index.\n",
    "\n",
    "But you can loop through the set items using a for loop, or ask if a specified value is present in a set, by using the in keyword."
   ]
  },
  {
   "cell_type": "code",
   "execution_count": 2,
   "metadata": {},
   "outputs": [
    {
     "name": "stdout",
     "output_type": "stream",
     "text": [
      "I like Apple\n",
      "I like Pineapple\n",
      "I like Banana\n"
     ]
    }
   ],
   "source": [
    "# Traversing a set\n",
    "\n",
    "fruits = {'Banana', 'Apple', 'Pineapple'}\n",
    "for i in fruits:\n",
    "    print('I like', i)\n",
    "\n",
    "# As shown in output, the value of set is not displayed in the same sequence as they are declared. "
   ]
  },
  {
   "cell_type": "code",
   "execution_count": 3,
   "metadata": {},
   "outputs": [
    {
     "name": "stdout",
     "output_type": "stream",
     "text": [
      "False\n",
      "True\n"
     ]
    }
   ],
   "source": [
    "# Code to check whether the element is present in a given set or not\n",
    "# It returns true or false\n",
    "st1 = {'Apple', 'Banana', 'Cherry'}\n",
    "print('Pineapple' in st1)\n",
    "print('Banana' in st1)"
   ]
  },
  {
   "cell_type": "code",
   "execution_count": 4,
   "metadata": {},
   "outputs": [
    {
     "name": "stdout",
     "output_type": "stream",
     "text": [
      "3\n"
     ]
    }
   ],
   "source": [
    "# to get length of a set\n",
    "print(len(st1))"
   ]
  },
  {
   "cell_type": "markdown",
   "metadata": {},
   "source": [
    "# Adding an element to set\n",
    "\n",
    "- To add one item to a set use the __add()__ method.\n",
    "\n",
    "- To add more than one item to a set use the __update()__ method.(for strings)"
   ]
  },
  {
   "cell_type": "code",
   "execution_count": 5,
   "metadata": {},
   "outputs": [
    {
     "name": "stdout",
     "output_type": "stream",
     "text": [
      "{1, 3, 5, 7, 9}\n",
      "using add() method\n",
      "{1, 3, 5, 7, 9, 11}\n",
      "using update() method\n",
      "{2, 4, 6, 8, 10}\n",
      "{2, 4, 6, 8, 10, 12, 14}\n"
     ]
    }
   ],
   "source": [
    "# using add() method\n",
    "s1 = {1,3,5,7,9}\n",
    "s2 = {2,4,6,8,10}\n",
    "print(s1)\n",
    "print(\"using add() method\")\n",
    "s1.add(11)\n",
    "#s1.add(13,15) #generate an error\n",
    "print(s1)\n",
    "\n",
    "# using update() method\n",
    "print('using update() method')\n",
    "print(s2)\n",
    "s2.update([12,14])\n",
    "print(s2)"
   ]
  },
  {
   "cell_type": "markdown",
   "metadata": {},
   "source": [
    "# Remove an element from set\n",
    "\n",
    "To remove an item in a set, use the \n",
    "- __remove() method:__ removes given an element from a set, but if the element is not present in the set it will raise an error\n",
    "- __discard() method:__ works same as remove() method, but if the element is not prensent in the set it will nor raise an error\n",
    "- __pop() method:__ removes the last element from the set\n",
    "- __clear() method:__ empty whole list\n",
    "- __del keyword:__ deletes the set completely:"
   ]
  },
  {
   "cell_type": "code",
   "execution_count": 6,
   "metadata": {},
   "outputs": [
    {
     "name": "stdout",
     "output_type": "stream",
     "text": [
      "{1, 2, 3, 'hello'}\n",
      "using remove():\n",
      "{1, 2, 'hello'}\n",
      "using discard():\n",
      "{1, 2, 'hello'}\n",
      "using pop():\n",
      "{2, 'hello'}\n",
      "using clear():\n",
      "using del\n",
      "{'Apple', 'Pineapple', 'Banana'}\n"
     ]
    },
    {
     "ename": "NameError",
     "evalue": "name 'fruits' is not defined",
     "output_type": "error",
     "traceback": [
      "\u001b[1;31m---------------------------------------------------------------------------\u001b[0m",
      "\u001b[1;31mNameError\u001b[0m                                 Traceback (most recent call last)",
      "\u001b[1;32m<ipython-input-6-367d0b2e97af>\u001b[0m in \u001b[0;36m<module>\u001b[1;34m\u001b[0m\n\u001b[0;32m     24\u001b[0m \u001b[0mprint\u001b[0m\u001b[1;33m(\u001b[0m\u001b[0mfruits\u001b[0m\u001b[1;33m)\u001b[0m\u001b[1;33m\u001b[0m\u001b[1;33m\u001b[0m\u001b[0m\n\u001b[0;32m     25\u001b[0m \u001b[1;32mdel\u001b[0m \u001b[0mfruits\u001b[0m\u001b[1;33m\u001b[0m\u001b[1;33m\u001b[0m\u001b[0m\n\u001b[1;32m---> 26\u001b[1;33m \u001b[0mprint\u001b[0m\u001b[1;33m(\u001b[0m\u001b[0mfruits\u001b[0m\u001b[1;33m)\u001b[0m\u001b[1;31m# generate error because fruits is deleted\u001b[0m\u001b[1;33m\u001b[0m\u001b[1;33m\u001b[0m\u001b[0m\n\u001b[0m",
      "\u001b[1;31mNameError\u001b[0m: name 'fruits' is not defined"
     ]
    }
   ],
   "source": [
    "# using remove() method\n",
    "print(st)\n",
    "print('using remove():')\n",
    "st.remove(3)\n",
    "#st.remove(4)#will generate error\n",
    "print(st)\n",
    "\n",
    "# using discard() method\n",
    "print('using discard():')\n",
    "st.discard(4)\n",
    "print(st)\n",
    "\n",
    "# using pop() method\n",
    "print('using pop():')\n",
    "st.pop()\n",
    "print(st)\n",
    "\n",
    "# using clear() method\n",
    "print('using clear():')\n",
    "st.clear()\n",
    "\n",
    "# using del keyword\n",
    "print('using del')\n",
    "print(fruits)\n",
    "del fruits\n",
    "print(fruits)# generate error because fruits is deleted"
   ]
  },
  {
   "cell_type": "markdown",
   "metadata": {},
   "source": [
    "# Join Two Sets\n",
    "\n",
    "There are several ways to join two or more sets in Python.\n",
    "\n",
    "Most commonly - \n",
    "- __union() method__ that returns a new set containing all items from both sets, or\n",
    "- __update() method__ that inserts all the items from one set into another\n",
    "\n",
    "are used"
   ]
  },
  {
   "cell_type": "code",
   "execution_count": 7,
   "metadata": {},
   "outputs": [
    {
     "name": "stdout",
     "output_type": "stream",
     "text": [
      "s1 = {1, 3, 5, 7, 9, 11}\n",
      "s2 = {2, 4, 6, 8, 10, 12, 14}\n",
      "using union(): \n",
      "s3 = {1, 2, 3, 4, 5, 6, 7, 8, 9, 10, 11, 12, 14}\n",
      "using update(): \n",
      "s1 = {1, 2, 3, 4, 5, 6, 7, 8, 9, 10, 11, 12, 14}\n"
     ]
    }
   ],
   "source": [
    "# using union() method\n",
    "print('s1 =', s1)\n",
    "print('s2 =', s2)\n",
    "print('using union(): ')\n",
    "s3 = s1.union(s2)\n",
    "print('s3 =', s3)\n",
    "\n",
    "# using update() method\n",
    "print('using update(): ')\n",
    "s1.update(s2)\n",
    "print('s1 =', s1)"
   ]
  },
  {
   "cell_type": "markdown",
   "metadata": {},
   "source": [
    "# Intersection of two sets\n",
    "\n",
    "- __intersection() method:__ Returns a set, that is the intersection of two other sets\n",
    "- __intersection_update() method:__ Removes the items in this set that are not present in other, specified set(s)"
   ]
  },
  {
   "cell_type": "code",
   "execution_count": 8,
   "metadata": {},
   "outputs": [
    {
     "name": "stdout",
     "output_type": "stream",
     "text": [
      "s1 = {1, 2, 3, 4, 5, 6, 7, 8, 9, 10, 11, 12, 14}\n",
      "s2 = {2, 4, 6, 8, 10, 12, 14}\n",
      "using intersection(): \n",
      "s4 = {2, 4, 6, 8, 10, 12, 14}\n",
      "using intersection_update(): \n",
      "s1 = {2, 4, 6, 8, 10, 12, 14}\n"
     ]
    }
   ],
   "source": [
    "print('s1 =', s1)\n",
    "print('s2 =', s2)\n",
    "print('using intersection(): ')\n",
    "s4 = s1.intersection(s2)\n",
    "print('s4 =', s4)\n",
    "\n",
    "print('using intersection_update(): ')\n",
    "s1.intersection_update(s2)\n",
    "print('s1 =', s1)"
   ]
  },
  {
   "cell_type": "markdown",
   "metadata": {},
   "source": [
    "# Different inbuilt methods of set\n",
    "\n",
    "- __add():__ Adds an element to the set\n",
    "- __clear():__ Removes all the elements from the set\n",
    "- __copy():__ Returns a copy of the set\n",
    "- __difference():__ Returns a set containing the difference between two or more sets\n",
    "- __difference_update():__ Removes the items in this set that are also included in another, specified set\n",
    "- __discard():__ Remove the specified item\n",
    "- __intersection():__ Returns a set, that is the intersection of two other sets\n",
    "- __intersection_update():__ Removes the items in this set that are not present in other, specified set(s)\n",
    "- __isdisjoint():__ Returns whether two sets have a intersection or not\n",
    "- __issubset():__ Returns whether another set contains this set or not\n",
    "- __issuperset():__ Returns whether this set contains another set or not\n",
    "- __pop():__ Removes an element from the set\n",
    "- __remove():__\tRemoves the specified element\n",
    "- __symmetric_difference():__ Returns a set with the symmetric differences of two sets\n",
    "- __symmetric_difference_update():__ inserts the symmetric differences from this set and another\n",
    "- __union():__ Return a set containing the union of sets\n",
    "- __update():__ Update the set with the union of this set and others"
   ]
  },
  {
   "cell_type": "code",
   "execution_count": 9,
   "metadata": {},
   "outputs": [
    {
     "name": "stdout",
     "output_type": "stream",
     "text": [
      "s1 = {2, 4, 6, 8, 10, 12, 14}\n",
      "s2 = {2, 4, 6, 8, 10, 12, 14}\n",
      "s3 = {1, 2, 3, 4, 5, 6, 7, 8, 9, 10, 11, 12, 14}\n",
      "using copy(): \n",
      "s5 = {2, 4, 6, 8, 10, 12, 14}\n",
      "using difference(): \n",
      "s6 = {1, 3, 5, 7, 9, 11}\n",
      "using difference_update(): \n",
      "s3 = {1, 3, 5, 7, 9, 11}\n",
      "using isdisjoint(): \n",
      "True\n",
      "using issubset(): \n",
      "False\n",
      "using issuperset(): \n",
      "True\n"
     ]
    }
   ],
   "source": [
    "print('s1 =', s1)\n",
    "print('s2 =', s2)\n",
    "print('s3 =', s3)\n",
    "\n",
    "# copy()\n",
    "print('using copy(): ')\n",
    "s5 = s1.copy()\n",
    "print('s5 =', s5)\n",
    "\n",
    "# difference()\n",
    "print('using difference(): ')\n",
    "s6 = s3.difference(s1)\n",
    "print('s6 =', s6)\n",
    "\n",
    "# difference_update()\n",
    "print('using difference_update(): ')\n",
    "s3.difference_update(s1)\n",
    "print('s3 =', s3)\n",
    "\n",
    "# isdisjoint()\n",
    "print('using isdisjoint(): ')\n",
    "print(s3.isdisjoint(s2))\n",
    "\n",
    "# issubset()\n",
    "print('using issubset(): ')\n",
    "print(s3.issubset(s2))\n",
    "\n",
    "# issuperset()\n",
    "print('using issuperset(): ')\n",
    "print(s1.issuperset(s2))"
   ]
  },
  {
   "cell_type": "markdown",
   "metadata": {},
   "source": [
    "# The set() Constructor\n",
    "\n",
    "It is also possible to use the set() constructor to make a set."
   ]
  },
  {
   "cell_type": "code",
   "execution_count": 10,
   "metadata": {},
   "outputs": [
    {
     "name": "stdout",
     "output_type": "stream",
     "text": [
      "{'cherry', 'apple', 'banana'}\n"
     ]
    }
   ],
   "source": [
    "set1 = set((\"apple\", \"banana\", \"cherry\")) # note the double round-brackets\n",
    "print(set1)"
   ]
  },
  {
   "cell_type": "code",
   "execution_count": null,
   "metadata": {},
   "outputs": [],
   "source": []
  }
 ],
 "metadata": {
  "kernelspec": {
   "display_name": "Python 3.8.1 64-bit",
   "language": "python",
   "name": "python38164bit7a02246802814b8fb7506e73bc968b0d"
  },
  "language_info": {
   "codemirror_mode": {
    "name": "ipython",
    "version": 3
   },
   "file_extension": ".py",
   "mimetype": "text/x-python",
   "name": "python",
   "nbconvert_exporter": "python",
   "pygments_lexer": "ipython3",
   "version": "3.8.1"
  }
 },
 "nbformat": 4,
 "nbformat_minor": 2
}
